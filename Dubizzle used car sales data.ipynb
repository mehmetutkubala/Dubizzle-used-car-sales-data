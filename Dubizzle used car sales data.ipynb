{
 "cells": [
  {
   "cell_type": "markdown",
   "id": "48d736e8",
   "metadata": {},
   "source": [
    "# Dubizzle used car sales data"
   ]
  },
  {
   "cell_type": "code",
   "execution_count": 1,
   "id": "a16e6536",
   "metadata": {},
   "outputs": [],
   "source": [
    "import pandas as pd\n",
    "import numpy as np\n",
    "pd.set_option(\"display.max_columns\",100)\n",
    "\n",
    "from sklearn.model_selection import train_test_split\n",
    "\n",
    "import tensorflow as tf\n",
    "\n",
    "from tensorflow.keras.models import Sequential\n",
    "from tensorflow.keras.layers import Dense, Activation\n",
    "from tensorflow.keras.optimizers import Adam\n",
    "from sklearn.metrics import mean_squared_error,r2_score\n",
    "\n",
    "from sklearn.metrics import r2_score, mean_squared_error,mean_absolute_error\n",
    "from sklearn.linear_model import LinearRegression, ElasticNet, Ridge, Lasso\n",
    "from sklearn.tree import ExtraTreeRegressor\n",
    "from sklearn.ensemble import GradientBoostingRegressor\n",
    "from xgboost import XGBRegressor\n",
    "\n",
    "from sklearn.preprocessing import MinMaxScaler\n",
    "scaler=MinMaxScaler()\n",
    "\n",
    "import warnings\n",
    "warnings.filterwarnings('ignore')"
   ]
  },
  {
   "cell_type": "code",
   "execution_count": 2,
   "id": "a2dd1b8a",
   "metadata": {},
   "outputs": [],
   "source": [
    "df=pd.read_csv(\"data.csv\") #https://www.kaggle.com/datasets/alihassankp/dubizzle-used-car-sale-data"
   ]
  },
  {
   "cell_type": "markdown",
   "id": "9db0f573",
   "metadata": {},
   "source": [
    "### EDA"
   ]
  },
  {
   "cell_type": "code",
   "execution_count": 3,
   "id": "17bc7152",
   "metadata": {},
   "outputs": [
    {
     "data": {
      "text/html": [
       "<div>\n",
       "<style scoped>\n",
       "    .dataframe tbody tr th:only-of-type {\n",
       "        vertical-align: middle;\n",
       "    }\n",
       "\n",
       "    .dataframe tbody tr th {\n",
       "        vertical-align: top;\n",
       "    }\n",
       "\n",
       "    .dataframe thead th {\n",
       "        text-align: right;\n",
       "    }\n",
       "</style>\n",
       "<table border=\"1\" class=\"dataframe\">\n",
       "  <thead>\n",
       "    <tr style=\"text-align: right;\">\n",
       "      <th></th>\n",
       "      <th>title</th>\n",
       "      <th>price_in_aed</th>\n",
       "      <th>kilometers</th>\n",
       "      <th>body_condition</th>\n",
       "      <th>mechanical_condition</th>\n",
       "      <th>seller_type</th>\n",
       "      <th>body_type</th>\n",
       "      <th>no_of_cylinders</th>\n",
       "      <th>transmission_type</th>\n",
       "      <th>regional_specs</th>\n",
       "      <th>horsepower</th>\n",
       "      <th>fuel_type</th>\n",
       "      <th>steering_side</th>\n",
       "      <th>year</th>\n",
       "      <th>color</th>\n",
       "      <th>emirate</th>\n",
       "      <th>motors_trim</th>\n",
       "      <th>company</th>\n",
       "      <th>model</th>\n",
       "      <th>date_posted</th>\n",
       "    </tr>\n",
       "  </thead>\n",
       "  <tbody>\n",
       "    <tr>\n",
       "      <th>0</th>\n",
       "      <td>MITSUBISHI PAJERO 3.5L / 2013</td>\n",
       "      <td>26,000</td>\n",
       "      <td>167390</td>\n",
       "      <td>Perfect inside and out</td>\n",
       "      <td>Perfect inside and out</td>\n",
       "      <td>Dealer</td>\n",
       "      <td>SUV</td>\n",
       "      <td>6</td>\n",
       "      <td>Automatic Transmission</td>\n",
       "      <td>GCC Specs</td>\n",
       "      <td>Unknown</td>\n",
       "      <td>Gasoline</td>\n",
       "      <td>Left Hand Side</td>\n",
       "      <td>2013.0</td>\n",
       "      <td>Silver</td>\n",
       "      <td>Dubai</td>\n",
       "      <td>GLS</td>\n",
       "      <td>mitsubishi</td>\n",
       "      <td>pajero</td>\n",
       "      <td>13/05/2022</td>\n",
       "    </tr>\n",
       "    <tr>\n",
       "      <th>1</th>\n",
       "      <td>chevrolet silverado</td>\n",
       "      <td>110,000</td>\n",
       "      <td>39000</td>\n",
       "      <td>Perfect inside and out</td>\n",
       "      <td>Perfect inside and out</td>\n",
       "      <td>Dealer</td>\n",
       "      <td>SUV</td>\n",
       "      <td>8</td>\n",
       "      <td>Automatic Transmission</td>\n",
       "      <td>North American Specs</td>\n",
       "      <td>400 - 500 HP</td>\n",
       "      <td>Gasoline</td>\n",
       "      <td>Left Hand Side</td>\n",
       "      <td>2018.0</td>\n",
       "      <td>White</td>\n",
       "      <td>Sharjah</td>\n",
       "      <td>1500 High Country</td>\n",
       "      <td>chevrolet</td>\n",
       "      <td>silverado</td>\n",
       "      <td>14/01/2022</td>\n",
       "    </tr>\n",
       "    <tr>\n",
       "      <th>2</th>\n",
       "      <td>MERCEDES-BENZ E300 - 2014 - GCC SPEC - FULL OP...</td>\n",
       "      <td>78,000</td>\n",
       "      <td>200000</td>\n",
       "      <td>Perfect inside and out</td>\n",
       "      <td>Perfect inside and out</td>\n",
       "      <td>Dealer</td>\n",
       "      <td>Sedan</td>\n",
       "      <td>6</td>\n",
       "      <td>Automatic Transmission</td>\n",
       "      <td>GCC Specs</td>\n",
       "      <td>400 - 500 HP</td>\n",
       "      <td>Gasoline</td>\n",
       "      <td>Left Hand Side</td>\n",
       "      <td>2014.0</td>\n",
       "      <td>Blue</td>\n",
       "      <td>Sharjah</td>\n",
       "      <td>E 300</td>\n",
       "      <td>mercedes-benz</td>\n",
       "      <td>e-class</td>\n",
       "      <td>05/05/2022</td>\n",
       "    </tr>\n",
       "    <tr>\n",
       "      <th>3</th>\n",
       "      <td>WARRANTY UNTIL APR 2023 || Ferrari 488 Spider ...</td>\n",
       "      <td>899,000</td>\n",
       "      <td>27000</td>\n",
       "      <td>Perfect inside and out</td>\n",
       "      <td>Perfect inside and out</td>\n",
       "      <td>Dealer</td>\n",
       "      <td>Hard Top Convertible</td>\n",
       "      <td>8</td>\n",
       "      <td>Automatic Transmission</td>\n",
       "      <td>GCC Specs</td>\n",
       "      <td>600 - 700 HP</td>\n",
       "      <td>Gasoline</td>\n",
       "      <td>Left Hand Side</td>\n",
       "      <td>2018.0</td>\n",
       "      <td>Red</td>\n",
       "      <td>Dubai</td>\n",
       "      <td>Standard</td>\n",
       "      <td>ferrari</td>\n",
       "      <td>488-spider</td>\n",
       "      <td>30/04/2022</td>\n",
       "    </tr>\n",
       "    <tr>\n",
       "      <th>4</th>\n",
       "      <td>USED RENAULT DOKKER 2020</td>\n",
       "      <td>33,000</td>\n",
       "      <td>69000</td>\n",
       "      <td>Perfect inside and out</td>\n",
       "      <td>Perfect inside and out</td>\n",
       "      <td>Owner</td>\n",
       "      <td>Wagon</td>\n",
       "      <td>4</td>\n",
       "      <td>Manual Transmission</td>\n",
       "      <td>GCC Specs</td>\n",
       "      <td>Less than 150 HP</td>\n",
       "      <td>Gasoline</td>\n",
       "      <td>Left Hand Side</td>\n",
       "      <td>2020.0</td>\n",
       "      <td>White</td>\n",
       "      <td>Dubai</td>\n",
       "      <td>Standard</td>\n",
       "      <td>renault</td>\n",
       "      <td>dokker</td>\n",
       "      <td>13/05/2022</td>\n",
       "    </tr>\n",
       "    <tr>\n",
       "      <th>...</th>\n",
       "      <td>...</td>\n",
       "      <td>...</td>\n",
       "      <td>...</td>\n",
       "      <td>...</td>\n",
       "      <td>...</td>\n",
       "      <td>...</td>\n",
       "      <td>...</td>\n",
       "      <td>...</td>\n",
       "      <td>...</td>\n",
       "      <td>...</td>\n",
       "      <td>...</td>\n",
       "      <td>...</td>\n",
       "      <td>...</td>\n",
       "      <td>...</td>\n",
       "      <td>...</td>\n",
       "      <td>...</td>\n",
       "      <td>...</td>\n",
       "      <td>...</td>\n",
       "      <td>...</td>\n",
       "      <td>...</td>\n",
       "    </tr>\n",
       "    <tr>\n",
       "      <th>9965</th>\n",
       "      <td>AED7525month | 2015 Land Rover Range Rover Aut...</td>\n",
       "      <td>215,000</td>\n",
       "      <td>105777</td>\n",
       "      <td>Perfect inside and out</td>\n",
       "      <td>Perfect inside and out</td>\n",
       "      <td>Dealer</td>\n",
       "      <td>SUV</td>\n",
       "      <td>8</td>\n",
       "      <td>Automatic Transmission</td>\n",
       "      <td>GCC Specs</td>\n",
       "      <td>500 - 600 HP</td>\n",
       "      <td>Gasoline</td>\n",
       "      <td>Left Hand Side</td>\n",
       "      <td>2015.0</td>\n",
       "      <td>White</td>\n",
       "      <td>Dubai</td>\n",
       "      <td>Autobiography</td>\n",
       "      <td>land-rover</td>\n",
       "      <td>range-rover</td>\n",
       "      <td>18/11/2021</td>\n",
       "    </tr>\n",
       "    <tr>\n",
       "      <th>9966</th>\n",
       "      <td>LOW MILEAGE Cadillac Escalade Platinum</td>\n",
       "      <td>90,000</td>\n",
       "      <td>55640</td>\n",
       "      <td>Perfect inside and out</td>\n",
       "      <td>Perfect inside and out</td>\n",
       "      <td>Owner</td>\n",
       "      <td>SUV</td>\n",
       "      <td>8</td>\n",
       "      <td>Automatic Transmission</td>\n",
       "      <td>GCC Specs</td>\n",
       "      <td>400 - 500 HP</td>\n",
       "      <td>Gasoline</td>\n",
       "      <td>Left Hand Side</td>\n",
       "      <td>2014.0</td>\n",
       "      <td>White</td>\n",
       "      <td>Dubai</td>\n",
       "      <td>Platinum</td>\n",
       "      <td>cadillac</td>\n",
       "      <td>escalade</td>\n",
       "      <td>11/05/2022</td>\n",
       "    </tr>\n",
       "    <tr>\n",
       "      <th>9967</th>\n",
       "      <td>WARRANTY AVAILABLE || Range Rover Sport SVR Ca...</td>\n",
       "      <td>679,000</td>\n",
       "      <td>100</td>\n",
       "      <td>Perfect inside and out</td>\n",
       "      <td>Perfect inside and out</td>\n",
       "      <td>Dealer</td>\n",
       "      <td>SUV</td>\n",
       "      <td>8</td>\n",
       "      <td>Automatic Transmission</td>\n",
       "      <td>Other</td>\n",
       "      <td>400 - 500 HP</td>\n",
       "      <td>Gasoline</td>\n",
       "      <td>Left Hand Side</td>\n",
       "      <td>NaN</td>\n",
       "      <td>Black</td>\n",
       "      <td>Dubai</td>\n",
       "      <td>SVR</td>\n",
       "      <td>land-rover</td>\n",
       "      <td>range-rover-sport</td>\n",
       "      <td>14/12/2021</td>\n",
       "    </tr>\n",
       "    <tr>\n",
       "      <th>9968</th>\n",
       "      <td>Chevrolet Malibu  GCC Spec</td>\n",
       "      <td>18,900</td>\n",
       "      <td>140000</td>\n",
       "      <td>No accidents, very few faults</td>\n",
       "      <td>Perfect inside and out</td>\n",
       "      <td>Owner</td>\n",
       "      <td>Sedan</td>\n",
       "      <td>4</td>\n",
       "      <td>Automatic Transmission</td>\n",
       "      <td>GCC Specs</td>\n",
       "      <td>150 - 200 HP</td>\n",
       "      <td>Gasoline</td>\n",
       "      <td>Left Hand Side</td>\n",
       "      <td>2013.0</td>\n",
       "      <td>White</td>\n",
       "      <td>Dubai</td>\n",
       "      <td>LS</td>\n",
       "      <td>chevrolet</td>\n",
       "      <td>malibu</td>\n",
       "      <td>06/03/2022</td>\n",
       "    </tr>\n",
       "    <tr>\n",
       "      <th>9969</th>\n",
       "      <td>LOW MILEAGE! PERFECT CONDITION! Jeep Wrangler ...</td>\n",
       "      <td>77,700</td>\n",
       "      <td>86000</td>\n",
       "      <td>Perfect inside and out</td>\n",
       "      <td>Perfect inside and out</td>\n",
       "      <td>Dealer</td>\n",
       "      <td>Crossover</td>\n",
       "      <td>6</td>\n",
       "      <td>Manual Transmission</td>\n",
       "      <td>GCC Specs</td>\n",
       "      <td>200 - 300 HP</td>\n",
       "      <td>Gasoline</td>\n",
       "      <td>Left Hand Side</td>\n",
       "      <td>2013.0</td>\n",
       "      <td>Orange</td>\n",
       "      <td>Dubai</td>\n",
       "      <td>Sahara</td>\n",
       "      <td>jeep</td>\n",
       "      <td>wrangler</td>\n",
       "      <td>04/12/2021</td>\n",
       "    </tr>\n",
       "  </tbody>\n",
       "</table>\n",
       "<p>9970 rows × 20 columns</p>\n",
       "</div>"
      ],
      "text/plain": [
       "                                                  title price_in_aed  \\\n",
       "0                         MITSUBISHI PAJERO 3.5L / 2013       26,000   \n",
       "1                                   chevrolet silverado      110,000   \n",
       "2     MERCEDES-BENZ E300 - 2014 - GCC SPEC - FULL OP...       78,000   \n",
       "3     WARRANTY UNTIL APR 2023 || Ferrari 488 Spider ...      899,000   \n",
       "4                              USED RENAULT DOKKER 2020       33,000   \n",
       "...                                                 ...          ...   \n",
       "9965  AED7525month | 2015 Land Rover Range Rover Aut...      215,000   \n",
       "9966             LOW MILEAGE Cadillac Escalade Platinum       90,000   \n",
       "9967  WARRANTY AVAILABLE || Range Rover Sport SVR Ca...      679,000   \n",
       "9968                         Chevrolet Malibu  GCC Spec       18,900   \n",
       "9969  LOW MILEAGE! PERFECT CONDITION! Jeep Wrangler ...       77,700   \n",
       "\n",
       "      kilometers                 body_condition    mechanical_condition  \\\n",
       "0         167390         Perfect inside and out  Perfect inside and out   \n",
       "1          39000         Perfect inside and out  Perfect inside and out   \n",
       "2         200000         Perfect inside and out  Perfect inside and out   \n",
       "3          27000         Perfect inside and out  Perfect inside and out   \n",
       "4          69000         Perfect inside and out  Perfect inside and out   \n",
       "...          ...                            ...                     ...   \n",
       "9965      105777         Perfect inside and out  Perfect inside and out   \n",
       "9966       55640         Perfect inside and out  Perfect inside and out   \n",
       "9967         100         Perfect inside and out  Perfect inside and out   \n",
       "9968      140000  No accidents, very few faults  Perfect inside and out   \n",
       "9969       86000         Perfect inside and out  Perfect inside and out   \n",
       "\n",
       "     seller_type             body_type no_of_cylinders  \\\n",
       "0         Dealer                   SUV               6   \n",
       "1         Dealer                   SUV               8   \n",
       "2         Dealer                 Sedan               6   \n",
       "3         Dealer  Hard Top Convertible               8   \n",
       "4          Owner                 Wagon               4   \n",
       "...          ...                   ...             ...   \n",
       "9965      Dealer                   SUV               8   \n",
       "9966       Owner                   SUV               8   \n",
       "9967      Dealer                   SUV               8   \n",
       "9968       Owner                 Sedan               4   \n",
       "9969      Dealer             Crossover               6   \n",
       "\n",
       "           transmission_type        regional_specs        horsepower  \\\n",
       "0     Automatic Transmission             GCC Specs           Unknown   \n",
       "1     Automatic Transmission  North American Specs      400 - 500 HP   \n",
       "2     Automatic Transmission             GCC Specs      400 - 500 HP   \n",
       "3     Automatic Transmission             GCC Specs      600 - 700 HP   \n",
       "4        Manual Transmission             GCC Specs  Less than 150 HP   \n",
       "...                      ...                   ...               ...   \n",
       "9965  Automatic Transmission             GCC Specs      500 - 600 HP   \n",
       "9966  Automatic Transmission             GCC Specs      400 - 500 HP   \n",
       "9967  Automatic Transmission                 Other      400 - 500 HP   \n",
       "9968  Automatic Transmission             GCC Specs      150 - 200 HP   \n",
       "9969     Manual Transmission             GCC Specs      200 - 300 HP   \n",
       "\n",
       "     fuel_type   steering_side    year   color   emirate        motors_trim  \\\n",
       "0     Gasoline  Left Hand Side  2013.0  Silver     Dubai                GLS   \n",
       "1     Gasoline  Left Hand Side  2018.0   White   Sharjah  1500 High Country   \n",
       "2     Gasoline  Left Hand Side  2014.0    Blue   Sharjah              E 300   \n",
       "3     Gasoline  Left Hand Side  2018.0     Red     Dubai           Standard   \n",
       "4     Gasoline  Left Hand Side  2020.0   White     Dubai           Standard   \n",
       "...        ...             ...     ...     ...       ...                ...   \n",
       "9965  Gasoline  Left Hand Side  2015.0   White     Dubai      Autobiography   \n",
       "9966  Gasoline  Left Hand Side  2014.0   White     Dubai           Platinum   \n",
       "9967  Gasoline  Left Hand Side     NaN   Black     Dubai                SVR   \n",
       "9968  Gasoline  Left Hand Side  2013.0   White     Dubai                 LS   \n",
       "9969  Gasoline  Left Hand Side  2013.0  Orange     Dubai             Sahara   \n",
       "\n",
       "            company              model date_posted  \n",
       "0        mitsubishi             pajero  13/05/2022  \n",
       "1         chevrolet          silverado  14/01/2022  \n",
       "2     mercedes-benz            e-class  05/05/2022  \n",
       "3           ferrari         488-spider  30/04/2022  \n",
       "4           renault             dokker  13/05/2022  \n",
       "...             ...                ...         ...  \n",
       "9965     land-rover        range-rover  18/11/2021  \n",
       "9966       cadillac           escalade  11/05/2022  \n",
       "9967     land-rover  range-rover-sport  14/12/2021  \n",
       "9968      chevrolet             malibu  06/03/2022  \n",
       "9969           jeep           wrangler  04/12/2021  \n",
       "\n",
       "[9970 rows x 20 columns]"
      ]
     },
     "execution_count": 3,
     "metadata": {},
     "output_type": "execute_result"
    }
   ],
   "source": [
    "df"
   ]
  },
  {
   "cell_type": "code",
   "execution_count": 4,
   "id": "70df7c2d",
   "metadata": {},
   "outputs": [
    {
     "name": "stdout",
     "output_type": "stream",
     "text": [
      "<class 'pandas.core.frame.DataFrame'>\n",
      "RangeIndex: 9970 entries, 0 to 9969\n",
      "Data columns (total 20 columns):\n",
      " #   Column                Non-Null Count  Dtype  \n",
      "---  ------                --------------  -----  \n",
      " 0   title                 9965 non-null   object \n",
      " 1   price_in_aed          9970 non-null   object \n",
      " 2   kilometers            9970 non-null   int64  \n",
      " 3   body_condition        9970 non-null   object \n",
      " 4   mechanical_condition  9970 non-null   object \n",
      " 5   seller_type           9970 non-null   object \n",
      " 6   body_type             9970 non-null   object \n",
      " 7   no_of_cylinders       9911 non-null   object \n",
      " 8   transmission_type     9970 non-null   object \n",
      " 9   regional_specs        9970 non-null   object \n",
      " 10  horsepower            9970 non-null   object \n",
      " 11  fuel_type             9970 non-null   object \n",
      " 12  steering_side         9970 non-null   object \n",
      " 13  year                  9000 non-null   float64\n",
      " 14  color                 9970 non-null   object \n",
      " 15  emirate               9970 non-null   object \n",
      " 16  motors_trim           9942 non-null   object \n",
      " 17  company               9970 non-null   object \n",
      " 18  model                 9970 non-null   object \n",
      " 19  date_posted           9970 non-null   object \n",
      "dtypes: float64(1), int64(1), object(18)\n",
      "memory usage: 1.5+ MB\n"
     ]
    }
   ],
   "source": [
    "df.info()"
   ]
  },
  {
   "cell_type": "code",
   "execution_count": 5,
   "id": "7fb9e673",
   "metadata": {},
   "outputs": [
    {
     "data": {
      "text/plain": [
       "title                     5\n",
       "price_in_aed              0\n",
       "kilometers                0\n",
       "body_condition            0\n",
       "mechanical_condition      0\n",
       "seller_type               0\n",
       "body_type                 0\n",
       "no_of_cylinders          59\n",
       "transmission_type         0\n",
       "regional_specs            0\n",
       "horsepower                0\n",
       "fuel_type                 0\n",
       "steering_side             0\n",
       "year                    970\n",
       "color                     0\n",
       "emirate                   0\n",
       "motors_trim              28\n",
       "company                   0\n",
       "model                     0\n",
       "date_posted               0\n",
       "dtype: int64"
      ]
     },
     "execution_count": 5,
     "metadata": {},
     "output_type": "execute_result"
    }
   ],
   "source": [
    "df.isnull().sum() #We examine the empty lines."
   ]
  },
  {
   "cell_type": "markdown",
   "id": "6a423376",
   "metadata": {},
   "source": [
    "### Feature Engineering"
   ]
  },
  {
   "cell_type": "code",
   "execution_count": 6,
   "id": "de51eb6f",
   "metadata": {},
   "outputs": [
    {
     "data": {
      "text/plain": [
       "6          3325\n",
       "4          2993\n",
       "8          2986\n",
       "12          366\n",
       "Unknown      57\n",
       "3            56\n",
       "10           53\n",
       "5            53\n",
       "None         22\n",
       "Name: no_of_cylinders, dtype: int64"
      ]
     },
     "execution_count": 6,
     "metadata": {},
     "output_type": "execute_result"
    }
   ],
   "source": [
    "df[\"no_of_cylinders\"].value_counts()"
   ]
  },
  {
   "cell_type": "code",
   "execution_count": 7,
   "id": "2b573ff4",
   "metadata": {},
   "outputs": [],
   "source": [
    "df=df[df['no_of_cylinders']!=\"Unknown\"]\n",
    "df=df[df['no_of_cylinders']!=\"None\"]\n",
    "#We delete the Unknown and None values in no_of_cylinders.\n",
    "df['no_of_cylinders'].fillna(6,inplace=True) #We fill the empty datas with 6.\n",
    "df['no_of_cylinders']=df['no_of_cylinders'].astype(int) #We change the data type to integer."
   ]
  },
  {
   "cell_type": "code",
   "execution_count": 8,
   "id": "215223fd",
   "metadata": {},
   "outputs": [],
   "source": [
    "df[\"price_in_aed\"]=df.price_in_aed.str.replace(',','') #We delete the commas in price_in_aed.\n",
    "df['price_in_aed']=df['price_in_aed'].astype(int)"
   ]
  },
  {
   "cell_type": "code",
   "execution_count": 9,
   "id": "b85e50ba",
   "metadata": {},
   "outputs": [
    {
     "data": {
      "text/plain": [
       "Other                2130\n",
       "Standard              429\n",
       "SE                    232\n",
       "S                     227\n",
       "G 63 AMG              197\n",
       "                     ... \n",
       "XLE Plus                1\n",
       "1500 2LT                1\n",
       "Prestige Plus LWB       1\n",
       "Limited + EL            1\n",
       "2500HD LTZ              1\n",
       "Name: motors_trim, Length: 855, dtype: int64"
      ]
     },
     "execution_count": 9,
     "metadata": {},
     "output_type": "execute_result"
    }
   ],
   "source": [
    "df[\"motors_trim\"].value_counts()"
   ]
  },
  {
   "cell_type": "code",
   "execution_count": 10,
   "id": "92d387ee",
   "metadata": {},
   "outputs": [],
   "source": [
    "df['motors_trim'].fillna(\"Other\",inplace=True) #We fill the empty datas in motors_trim with Other."
   ]
  },
  {
   "cell_type": "code",
   "execution_count": 11,
   "id": "d6daf2b4",
   "metadata": {},
   "outputs": [
    {
     "data": {
      "text/plain": [
       "Perfect inside and out                9537\n",
       "No accidents, very few faults          205\n",
       "A bit of wear & tear, all repaired     118\n",
       "Normal wear & tear, a few issues        31\n",
       "Name: body_condition, dtype: int64"
      ]
     },
     "execution_count": 11,
     "metadata": {},
     "output_type": "execute_result"
    }
   ],
   "source": [
    "df[\"body_condition\"].value_counts()"
   ]
  },
  {
   "cell_type": "code",
   "execution_count": 12,
   "id": "3278f8b1",
   "metadata": {},
   "outputs": [],
   "source": [
    "df[\"body_condition\"]=df[\"body_condition\"].map({\"Perfect inside and out\":0,\"No accidents, very few faults\":1,\"A bit of wear & tear, all repaired\":2,\"Normal wear & tear, a few issues\":3})\n",
    "#We replace the data in body_condition with 0, 1, 2 and 3.\n",
    "df['body_condition']=df['body_condition'].astype(int)"
   ]
  },
  {
   "cell_type": "code",
   "execution_count": 13,
   "id": "f06a0f64",
   "metadata": {},
   "outputs": [
    {
     "data": {
      "text/plain": [
       "Perfect inside and out              9745\n",
       "Minor faults, all fixed              134\n",
       "Major faults fixed, small remain       8\n",
       "Ongoing minor & major faults           3\n",
       "Major faults, all fixed                1\n",
       "Name: mechanical_condition, dtype: int64"
      ]
     },
     "execution_count": 13,
     "metadata": {},
     "output_type": "execute_result"
    }
   ],
   "source": [
    "df[\"mechanical_condition\"].value_counts()"
   ]
  },
  {
   "cell_type": "code",
   "execution_count": 14,
   "id": "d3bd5986",
   "metadata": {},
   "outputs": [],
   "source": [
    "df[\"mechanical_condition\"]=df[\"mechanical_condition\"].map({\"Minor faults, all fixed\":0,\"Major faults, all fixed\":4,\"Perfect inside and out\":1,\"Major faults fixed, small remain\":2,\"Ongoing minor & major faults\":3})\n",
    "df['mechanical_condition']=df['mechanical_condition'].astype(int)"
   ]
  },
  {
   "cell_type": "code",
   "execution_count": 15,
   "id": "7e80e867",
   "metadata": {},
   "outputs": [
    {
     "data": {
      "text/plain": [
       "Dealer                            6709\n",
       "Owner                             2915\n",
       "Dealership/Certified Pre-Owned     267\n",
       "Name: seller_type, dtype: int64"
      ]
     },
     "execution_count": 15,
     "metadata": {},
     "output_type": "execute_result"
    }
   ],
   "source": [
    "df[\"seller_type\"].value_counts()"
   ]
  },
  {
   "cell_type": "code",
   "execution_count": 16,
   "id": "7d4561cb",
   "metadata": {},
   "outputs": [],
   "source": [
    "df[\"seller_type\"]=df[\"seller_type\"].map({\"Dealer\":0,\"Owner\":1,\"Dealership/Certified Pre-Owned\":2})\n",
    "df['seller_type']=df['seller_type'].astype(int)"
   ]
  },
  {
   "cell_type": "code",
   "execution_count": 17,
   "id": "2a55158f",
   "metadata": {},
   "outputs": [
    {
     "data": {
      "text/plain": [
       "SUV                     4550\n",
       "Sedan                   2726\n",
       "Coupe                    845\n",
       "Pick Up Truck            421\n",
       "Hatchback                337\n",
       "Sports Car               257\n",
       "Hard Top Convertible     161\n",
       "Van                      161\n",
       "Soft Top Convertible     142\n",
       "Crossover                107\n",
       "Other                     97\n",
       "Wagon                     66\n",
       "Utility Truck             21\n",
       "Name: body_type, dtype: int64"
      ]
     },
     "execution_count": 17,
     "metadata": {},
     "output_type": "execute_result"
    }
   ],
   "source": [
    "df[\"body_type\"].value_counts()"
   ]
  },
  {
   "cell_type": "code",
   "execution_count": 18,
   "id": "05d5b39f",
   "metadata": {},
   "outputs": [],
   "source": [
    "df[\"body_type\"]=df[\"body_type\"].map({\"SUV\":0,\"Sedan\":1,\"Coupe\":2,\"Pick Up Truck\":3,\"Hatchback\":4,\"Sports Car\":5,\"Hard Top Convertible\":6,\"Van\":7,\"Soft Top Convertible\":8,\"Crossover\":9,\"Other\":10,\"Wagon\":11,\"Utility Truck\":12})\n",
    "df['body_type']=df['body_type'].astype(int)"
   ]
  },
  {
   "cell_type": "code",
   "execution_count": 19,
   "id": "b78ea93a",
   "metadata": {},
   "outputs": [
    {
     "data": {
      "text/plain": [
       "Automatic Transmission    9510\n",
       "Manual Transmission        381\n",
       "Name: transmission_type, dtype: int64"
      ]
     },
     "execution_count": 19,
     "metadata": {},
     "output_type": "execute_result"
    }
   ],
   "source": [
    "df[\"transmission_type\"].value_counts()"
   ]
  },
  {
   "cell_type": "code",
   "execution_count": 20,
   "id": "e4b1c4d1",
   "metadata": {},
   "outputs": [],
   "source": [
    "df[\"transmission_type\"]=df[\"transmission_type\"].map({\"Automatic Transmission\":0,\"Manual Transmission\":1})\n",
    "df['transmission_type']=df['transmission_type'].astype(int)"
   ]
  },
  {
   "cell_type": "code",
   "execution_count": 21,
   "id": "5bfbdd63",
   "metadata": {},
   "outputs": [
    {
     "data": {
      "text/plain": [
       "GCC Specs               7556\n",
       "North American Specs    1144\n",
       "Other                    526\n",
       "European Specs           418\n",
       "Japanese Specs           247\n",
       "Name: regional_specs, dtype: int64"
      ]
     },
     "execution_count": 21,
     "metadata": {},
     "output_type": "execute_result"
    }
   ],
   "source": [
    "df[\"regional_specs\"].value_counts()"
   ]
  },
  {
   "cell_type": "code",
   "execution_count": 22,
   "id": "187c9d77",
   "metadata": {},
   "outputs": [],
   "source": [
    "df[\"regional_specs\"]=df[\"regional_specs\"].map({\"GCC Specs\":0,\"North American Specs\":1,\"Other\":2,\"European Specs\":3,\"Japanese Specs\":4})\n",
    "df['regional_specs']=df['regional_specs'].astype(int)"
   ]
  },
  {
   "cell_type": "code",
   "execution_count": 23,
   "id": "9e990e3c",
   "metadata": {},
   "outputs": [
    {
     "data": {
      "text/plain": [
       "200 - 300 HP        2427\n",
       "300 - 400 HP        2200\n",
       "400 - 500 HP        1274\n",
       "150 - 200 HP        1222\n",
       "500 - 600 HP        1025\n",
       "Unknown              768\n",
       "600 - 700 HP         391\n",
       "Less than 150 HP     387\n",
       "700 - 800 HP         148\n",
       "800 - 900 HP          30\n",
       "900+ HP               19\n",
       "Name: horsepower, dtype: int64"
      ]
     },
     "execution_count": 23,
     "metadata": {},
     "output_type": "execute_result"
    }
   ],
   "source": [
    "df[\"horsepower\"].value_counts()"
   ]
  },
  {
   "cell_type": "code",
   "execution_count": 24,
   "id": "929e6b09",
   "metadata": {},
   "outputs": [],
   "source": [
    "df=df[df['horsepower']!=\"Unknown\"]\n",
    "df[\"horsepower\"]=df[\"horsepower\"].map({\"200 - 300 HP\":0,\"300 - 400 HP\":1,\"400 - 500 HP\":2,\"150 - 200 HP\":3,\"600 - 700 HP\":4,\"Less than 150 HP\":5,\"700 - 800 HP\":6,\"800 - 900 HP\":7,\"900+ HP\":8,\"500 - 600 HP\":9})\n",
    "df['horsepower']=df['horsepower'].astype(int)"
   ]
  },
  {
   "cell_type": "code",
   "execution_count": 25,
   "id": "d2c50e47",
   "metadata": {},
   "outputs": [
    {
     "data": {
      "text/plain": [
       "Gasoline    8925\n",
       "Diesel       138\n",
       "Electric      42\n",
       "Hybrid        18\n",
       "Name: fuel_type, dtype: int64"
      ]
     },
     "execution_count": 25,
     "metadata": {},
     "output_type": "execute_result"
    }
   ],
   "source": [
    "df[\"fuel_type\"].value_counts()"
   ]
  },
  {
   "cell_type": "code",
   "execution_count": 26,
   "id": "8f840f18",
   "metadata": {},
   "outputs": [],
   "source": [
    "df[\"fuel_type\"]=df[\"fuel_type\"].map({\"Gasoline\":0,\"Diesel\":1,\"Electric\":2,\"Hybrid\":3})\n",
    "df['fuel_type']=df['fuel_type'].astype(int)"
   ]
  },
  {
   "cell_type": "code",
   "execution_count": 27,
   "id": "9e7a8f8b",
   "metadata": {},
   "outputs": [
    {
     "data": {
      "text/plain": [
       "Left Hand Side     9121\n",
       "Right Hand Side       2\n",
       "Name: steering_side, dtype: int64"
      ]
     },
     "execution_count": 27,
     "metadata": {},
     "output_type": "execute_result"
    }
   ],
   "source": [
    "df[\"steering_side\"].value_counts()"
   ]
  },
  {
   "cell_type": "code",
   "execution_count": 28,
   "id": "cd624bab",
   "metadata": {},
   "outputs": [],
   "source": [
    "df[\"steering_side\"]=df[\"steering_side\"].map({\"Left Hand Side\":0,\"Right Hand Side\":1})\n",
    "df['steering_side']=df['steering_side'].astype(int)"
   ]
  },
  {
   "cell_type": "code",
   "execution_count": 29,
   "id": "897432ec",
   "metadata": {},
   "outputs": [
    {
     "data": {
      "text/plain": [
       "White          3039\n",
       "Black          1922\n",
       "Grey           1231\n",
       "Silver          767\n",
       "Blue            664\n",
       "Red             555\n",
       "Gold            227\n",
       "Brown           218\n",
       "Green           133\n",
       "Orange           72\n",
       "Beige            68\n",
       "Yellow           68\n",
       "Other Color      65\n",
       "Burgundy         60\n",
       "Purple           23\n",
       "Teal              7\n",
       "Tan               4\n",
       "Name: color, dtype: int64"
      ]
     },
     "execution_count": 29,
     "metadata": {},
     "output_type": "execute_result"
    }
   ],
   "source": [
    "df[\"color\"].value_counts()"
   ]
  },
  {
   "cell_type": "code",
   "execution_count": 30,
   "id": "3ddb6bff",
   "metadata": {},
   "outputs": [],
   "source": [
    "df[\"color\"]=df[\"color\"].map({\"White\":0,\"Black\":1,\"Grey\":2,\"Silver\":3,\"Blue\":4,\"Red\":5,\"Gold\":6,\"Brown\":7,\"Green\":8,\"Orange\":9,\"Yellow\":10,\"Other Color\":11,\"Burgundy\":12,\"Purple\":13,\"Teal\":14,\"Tan\":15,\"Beige\":16})\n",
    "df['color']=df['color'].astype(int)"
   ]
  },
  {
   "cell_type": "code",
   "execution_count": 31,
   "id": "a3ceeea1",
   "metadata": {},
   "outputs": [],
   "source": [
    "df['title'].fillna(\"None\",inplace=True)\n",
    "df=df.dropna() #We delete rows containing empty data.\n",
    "df['year']=df['year'].astype(int)"
   ]
  },
  {
   "cell_type": "code",
   "execution_count": 32,
   "id": "7db24c97",
   "metadata": {},
   "outputs": [
    {
     "data": {
      "text/plain": [
       "Dubai           6690\n",
       "Sharjah          714\n",
       "AbuDhabi         634\n",
       "Ajman            126\n",
       "AlAin             26\n",
       "RasAlKhaimah      15\n",
       "UmmAlQawain        6\n",
       "Fujeirah           5\n",
       "Name: emirate, dtype: int64"
      ]
     },
     "execution_count": 32,
     "metadata": {},
     "output_type": "execute_result"
    }
   ],
   "source": [
    "df[\"emirate\"]=df.emirate.str.replace(' ','')\n",
    "df[\"emirate\"].value_counts()"
   ]
  },
  {
   "cell_type": "code",
   "execution_count": 33,
   "id": "06774d95",
   "metadata": {},
   "outputs": [],
   "source": [
    "df[\"emirate\"]=df[\"emirate\"].map({\"Dubai\":0,\"Sharjah\":1,\"AbuDhabi\":2,\"Ajman\":3,\"AlAin\":4,\"RasAlKhaimah\":5,\"UmmAlQawain\":6,\"Fujeirah\":7})\n",
    "df['emirate']=df['emirate'].astype(int)"
   ]
  },
  {
   "cell_type": "code",
   "execution_count": 34,
   "id": "b9038f8e",
   "metadata": {},
   "outputs": [
    {
     "data": {
      "text/plain": [
       "patrol               339\n",
       "s-class              217\n",
       "range-rover-sport    173\n",
       "c-class              167\n",
       "e-class              157\n",
       "                    ... \n",
       "xk8                    1\n",
       "lc-500                 1\n",
       "pacifica               1\n",
       "gs7                    1\n",
       "odyssey-j              1\n",
       "Name: model, Length: 518, dtype: int64"
      ]
     },
     "execution_count": 34,
     "metadata": {},
     "output_type": "execute_result"
    }
   ],
   "source": [
    "df[\"model\"].value_counts()"
   ]
  },
  {
   "cell_type": "code",
   "execution_count": 35,
   "id": "29d31860",
   "metadata": {},
   "outputs": [],
   "source": [
    "df[\"date_posted\"]=pd.to_datetime(df[\"date_posted\"])\n",
    "df[\"day_posted\"]=(df[\"date_posted\"]).dt.day\n",
    "df[\"month_posted\"]=(df[\"date_posted\"]).dt.month\n",
    "df[\"year_posted\"]=(df[\"date_posted\"]).dt.year\n",
    "df['day_posted']=df['day_posted'].astype(int)\n",
    "df['month_posted']=df['month_posted'].astype(int)\n",
    "df['month_posted']=df['month_posted'].astype(int)\n",
    "del df[\"date_posted\"]\n",
    "df=df.reset_index()\n",
    "del df[\"index\"]\n",
    "#We divide date_posted into day, month, year and time."
   ]
  },
  {
   "cell_type": "code",
   "execution_count": 36,
   "id": "75af12ca",
   "metadata": {},
   "outputs": [
    {
     "data": {
      "text/plain": [
       "price_in_aed            1.000000\n",
       "no_of_cylinders         0.407235\n",
       "horsepower              0.359233\n",
       "year                    0.245268\n",
       "regional_specs          0.179753\n",
       "fuel_type               0.085201\n",
       "body_type               0.083673\n",
       "color                   0.070246\n",
       "mechanical_condition    0.031142\n",
       "day_posted              0.026800\n",
       "steering_side           0.001606\n",
       "kilometers              0.022247\n",
       "transmission_type       0.031873\n",
       "month_posted            0.031949\n",
       "body_condition          0.055376\n",
       "year_posted             0.055423\n",
       "emirate                 0.094863\n",
       "seller_type             0.104317\n",
       "Name: price_in_aed, dtype: float64"
      ]
     },
     "execution_count": 36,
     "metadata": {},
     "output_type": "execute_result"
    }
   ],
   "source": [
    "abs(df.corr()[\"price_in_aed\"].sort_values(ascending=False)) #We look at their correlations."
   ]
  },
  {
   "cell_type": "markdown",
   "id": "6583be9f",
   "metadata": {},
   "source": [
    "### Regression"
   ]
  },
  {
   "cell_type": "code",
   "execution_count": 37,
   "id": "da08d944",
   "metadata": {},
   "outputs": [
    {
     "data": {
      "text/plain": [
       "(8216, 20)"
      ]
     },
     "execution_count": 37,
     "metadata": {},
     "output_type": "execute_result"
    }
   ],
   "source": [
    "x,y=df.drop([\"title\",\"price_in_aed\"],axis=1),df[[\"price_in_aed\"]]\n",
    "x.shape"
   ]
  },
  {
   "cell_type": "code",
   "execution_count": 38,
   "id": "47df3064",
   "metadata": {},
   "outputs": [],
   "source": [
    "x=pd.get_dummies(x,drop_first=True)\n",
    "x=scaler.fit_transform(x)"
   ]
  },
  {
   "cell_type": "code",
   "execution_count": 39,
   "id": "2c58f7f0",
   "metadata": {},
   "outputs": [],
   "source": [
    "def algo_test(x,y):\n",
    "    L = LinearRegression()\n",
    "    E = ElasticNet()\n",
    "    R = Ridge()\n",
    "    Lass = Lasso()\n",
    "    ETR=ExtraTreeRegressor()\n",
    "    GBR=GradientBoostingRegressor()\n",
    "    XGBC= XGBRegressor()\n",
    "    x_train, x_test, y_train, y_test=train_test_split(x,y,test_size=0.2,random_state=13)\n",
    "    algos = [L,E,R,Lass,ETR,GBR,XGBC]\n",
    "    algo_names = ['Linear','ElasticNet','Ridge','Lasso','Extra Tree','Gradient Boosting','XGradientBooting']\n",
    "    r_squared = []\n",
    "    rmse = []\n",
    "    mae = []\n",
    "    result = pd.DataFrame(columns = ['R_Squared','RMSE','MAE'],index = algo_names)\n",
    "    for algo in algos:\n",
    "        algo.fit(x_train,y_train)    \n",
    "        r_squared.append(r2_score(y_test,algo.predict(x_test)))\n",
    "        rmse.append(mean_squared_error(y_test, algo.predict(x_test))**.5)\n",
    "        mae.append(mean_absolute_error(y_test, algo.predict(x_test)))\n",
    "    result.R_Squared = r_squared\n",
    "    result.RMSE = rmse\n",
    "    result.MAE= mae\n",
    "    return result.sort_values('R_Squared', ascending=False)"
   ]
  },
  {
   "cell_type": "code",
   "execution_count": 40,
   "id": "018e3252",
   "metadata": {},
   "outputs": [
    {
     "data": {
      "text/html": [
       "<div>\n",
       "<style scoped>\n",
       "    .dataframe tbody tr th:only-of-type {\n",
       "        vertical-align: middle;\n",
       "    }\n",
       "\n",
       "    .dataframe tbody tr th {\n",
       "        vertical-align: top;\n",
       "    }\n",
       "\n",
       "    .dataframe thead th {\n",
       "        text-align: right;\n",
       "    }\n",
       "</style>\n",
       "<table border=\"1\" class=\"dataframe\">\n",
       "  <thead>\n",
       "    <tr style=\"text-align: right;\">\n",
       "      <th></th>\n",
       "      <th>R_Squared</th>\n",
       "      <th>RMSE</th>\n",
       "      <th>MAE</th>\n",
       "    </tr>\n",
       "  </thead>\n",
       "  <tbody>\n",
       "    <tr>\n",
       "      <th>XGradientBooting</th>\n",
       "      <td>9.055256e-01</td>\n",
       "      <td>1.177717e+05</td>\n",
       "      <td>4.364382e+04</td>\n",
       "    </tr>\n",
       "    <tr>\n",
       "      <th>Gradient Boosting</th>\n",
       "      <td>8.676934e-01</td>\n",
       "      <td>1.393718e+05</td>\n",
       "      <td>6.399299e+04</td>\n",
       "    </tr>\n",
       "    <tr>\n",
       "      <th>Lasso</th>\n",
       "      <td>8.314037e-01</td>\n",
       "      <td>1.573288e+05</td>\n",
       "      <td>6.826429e+04</td>\n",
       "    </tr>\n",
       "    <tr>\n",
       "      <th>Extra Tree</th>\n",
       "      <td>8.269879e-01</td>\n",
       "      <td>1.593758e+05</td>\n",
       "      <td>5.119681e+04</td>\n",
       "    </tr>\n",
       "    <tr>\n",
       "      <th>Ridge</th>\n",
       "      <td>8.050559e-01</td>\n",
       "      <td>1.691761e+05</td>\n",
       "      <td>7.364734e+04</td>\n",
       "    </tr>\n",
       "    <tr>\n",
       "      <th>ElasticNet</th>\n",
       "      <td>1.351360e-01</td>\n",
       "      <td>3.563346e+05</td>\n",
       "      <td>1.741829e+05</td>\n",
       "    </tr>\n",
       "    <tr>\n",
       "      <th>Linear</th>\n",
       "      <td>-2.935072e+23</td>\n",
       "      <td>2.075838e+17</td>\n",
       "      <td>3.589110e+16</td>\n",
       "    </tr>\n",
       "  </tbody>\n",
       "</table>\n",
       "</div>"
      ],
      "text/plain": [
       "                      R_Squared          RMSE           MAE\n",
       "XGradientBooting   9.055256e-01  1.177717e+05  4.364382e+04\n",
       "Gradient Boosting  8.676934e-01  1.393718e+05  6.399299e+04\n",
       "Lasso              8.314037e-01  1.573288e+05  6.826429e+04\n",
       "Extra Tree         8.269879e-01  1.593758e+05  5.119681e+04\n",
       "Ridge              8.050559e-01  1.691761e+05  7.364734e+04\n",
       "ElasticNet         1.351360e-01  3.563346e+05  1.741829e+05\n",
       "Linear            -2.935072e+23  2.075838e+17  3.589110e+16"
      ]
     },
     "execution_count": 40,
     "metadata": {},
     "output_type": "execute_result"
    }
   ],
   "source": [
    "algo_test(x,y)"
   ]
  },
  {
   "cell_type": "code",
   "execution_count": 41,
   "id": "f49d6712",
   "metadata": {},
   "outputs": [],
   "source": [
    "x_train,x_test,y_train,y_test=train_test_split(x,y,test_size=0.20,random_state=42)"
   ]
  },
  {
   "cell_type": "code",
   "execution_count": 69,
   "id": "92d927cf",
   "metadata": {},
   "outputs": [],
   "source": [
    "model=Sequential()\n",
    "model.add(Dense(480,activation=\"relu\"))\n",
    "model.add(Dense(480,activation=\"relu\"))\n",
    "model.add(Dense(480,activation=\"relu\"))\n",
    "model.add(Dense(480,activation=\"relu\"))\n",
    "model.add(Dense(480,activation=\"relu\"))\n",
    "model.add(Dense(480,activation=\"relu\"))\n",
    "model.add(Dense(480,activation=\"relu\"))\n",
    "model.add(Dense(480,activation=\"relu\"))\n",
    "model.add(Dense(480,activation=\"relu\"))\n",
    "model.add(Dense(480,activation=\"relu\"))\n",
    "model.add(Dense(1))\n",
    "model.compile(optimizer=\"adam\",loss=\"mse\")"
   ]
  },
  {
   "cell_type": "code",
   "execution_count": 70,
   "id": "362c8619",
   "metadata": {},
   "outputs": [
    {
     "name": "stdout",
     "output_type": "stream",
     "text": [
      "Epoch 1/150\n",
      "52/52 [==============================] - 3s 23ms/step - loss: 153922404352.0000 - val_loss: 59139915776.0000\n",
      "Epoch 2/150\n",
      "52/52 [==============================] - 1s 20ms/step - loss: 83313967104.0000 - val_loss: 124536193024.0000\n",
      "Epoch 3/150\n",
      "52/52 [==============================] - 1s 20ms/step - loss: 83409436672.0000 - val_loss: 44523196416.0000\n",
      "Epoch 4/150\n",
      "52/52 [==============================] - 1s 20ms/step - loss: 74499989504.0000 - val_loss: 40298733568.0000\n",
      "Epoch 5/150\n",
      "52/52 [==============================] - 1s 20ms/step - loss: 90781278208.0000 - val_loss: 48781557760.0000\n",
      "Epoch 6/150\n",
      "52/52 [==============================] - 1s 19ms/step - loss: 55405592576.0000 - val_loss: 31395960832.0000\n",
      "Epoch 7/150\n",
      "52/52 [==============================] - 1s 20ms/step - loss: 50062012416.0000 - val_loss: 58328932352.0000\n",
      "Epoch 8/150\n",
      "52/52 [==============================] - 1s 20ms/step - loss: 39294398464.0000 - val_loss: 51495440384.0000\n",
      "Epoch 9/150\n",
      "52/52 [==============================] - 1s 20ms/step - loss: 33516421120.0000 - val_loss: 30722242560.0000\n",
      "Epoch 10/150\n",
      "52/52 [==============================] - 1s 20ms/step - loss: 28438155264.0000 - val_loss: 67612725248.0000\n",
      "Epoch 11/150\n",
      "52/52 [==============================] - 1s 20ms/step - loss: 46595944448.0000 - val_loss: 37253730304.0000\n",
      "Epoch 12/150\n",
      "52/52 [==============================] - 1s 20ms/step - loss: 25091448832.0000 - val_loss: 87963475968.0000\n",
      "Epoch 13/150\n",
      "52/52 [==============================] - 1s 20ms/step - loss: 21354043392.0000 - val_loss: 29517561856.0000\n",
      "Epoch 14/150\n",
      "52/52 [==============================] - 1s 20ms/step - loss: 29732460544.0000 - val_loss: 30512447488.0000\n",
      "Epoch 15/150\n",
      "52/52 [==============================] - 1s 20ms/step - loss: 21478572032.0000 - val_loss: 39106265088.0000\n",
      "Epoch 16/150\n",
      "52/52 [==============================] - 1s 20ms/step - loss: 20455458816.0000 - val_loss: 37865545728.0000\n",
      "Epoch 17/150\n",
      "52/52 [==============================] - 1s 20ms/step - loss: 119845445632.0000 - val_loss: 141517602816.0000\n",
      "Epoch 18/150\n",
      "52/52 [==============================] - 1s 20ms/step - loss: 62100406272.0000 - val_loss: 31280443392.0000\n",
      "Epoch 19/150\n",
      "52/52 [==============================] - 1s 20ms/step - loss: 19133399040.0000 - val_loss: 51927330816.0000\n",
      "Epoch 20/150\n",
      "52/52 [==============================] - 1s 20ms/step - loss: 41277579264.0000 - val_loss: 36807479296.0000\n",
      "Epoch 21/150\n",
      "52/52 [==============================] - 1s 20ms/step - loss: 15256339456.0000 - val_loss: 31551174656.0000\n",
      "Epoch 22/150\n",
      "52/52 [==============================] - 1s 20ms/step - loss: 17814302720.0000 - val_loss: 32612583424.0000\n",
      "Epoch 23/150\n",
      "52/52 [==============================] - 1s 19ms/step - loss: 18388338688.0000 - val_loss: 29890725888.0000\n",
      "Epoch 24/150\n",
      "52/52 [==============================] - 1s 20ms/step - loss: 12134312960.0000 - val_loss: 35922423808.0000\n",
      "Epoch 25/150\n",
      "52/52 [==============================] - 1s 20ms/step - loss: 16325576704.0000 - val_loss: 26994167808.0000\n",
      "Epoch 26/150\n",
      "52/52 [==============================] - 1s 20ms/step - loss: 12535543808.0000 - val_loss: 32664662016.0000\n",
      "Epoch 27/150\n",
      "52/52 [==============================] - 1s 21ms/step - loss: 9178559488.0000 - val_loss: 28437014528.0000\n",
      "Epoch 28/150\n",
      "52/52 [==============================] - 1s 21ms/step - loss: 8892883968.0000 - val_loss: 42604347392.0000\n",
      "Epoch 29/150\n",
      "52/52 [==============================] - 1s 21ms/step - loss: 9644084224.0000 - val_loss: 29093097472.0000\n",
      "Epoch 30/150\n",
      "52/52 [==============================] - 1s 21ms/step - loss: 8452102656.0000 - val_loss: 25225232384.0000\n",
      "Epoch 31/150\n",
      "52/52 [==============================] - 1s 21ms/step - loss: 8597675008.0000 - val_loss: 29984335872.0000\n",
      "Epoch 32/150\n",
      "52/52 [==============================] - 1s 21ms/step - loss: 8329154048.0000 - val_loss: 30154647552.0000\n",
      "Epoch 33/150\n",
      "52/52 [==============================] - 1s 21ms/step - loss: 10404209664.0000 - val_loss: 23664562176.0000\n",
      "Epoch 34/150\n",
      "52/52 [==============================] - 1s 21ms/step - loss: 11871072256.0000 - val_loss: 33427988480.0000\n",
      "Epoch 35/150\n",
      "52/52 [==============================] - 1s 21ms/step - loss: 71816380416.0000 - val_loss: 32091940864.0000\n",
      "Epoch 36/150\n",
      "52/52 [==============================] - 1s 21ms/step - loss: 33594214400.0000 - val_loss: 23954948096.0000\n",
      "Epoch 37/150\n",
      "52/52 [==============================] - 1s 21ms/step - loss: 12143321088.0000 - val_loss: 33137276928.0000\n",
      "Epoch 38/150\n",
      "52/52 [==============================] - 1s 21ms/step - loss: 10536201216.0000 - val_loss: 28813697024.0000\n",
      "Epoch 39/150\n",
      "52/52 [==============================] - 1s 21ms/step - loss: 10365506560.0000 - val_loss: 29083967488.0000\n",
      "Epoch 40/150\n",
      "52/52 [==============================] - 1s 21ms/step - loss: 7810568192.0000 - val_loss: 28857569280.0000\n",
      "Epoch 41/150\n",
      "52/52 [==============================] - 1s 21ms/step - loss: 6854924288.0000 - val_loss: 39372832768.0000\n",
      "Epoch 42/150\n",
      "52/52 [==============================] - 1s 21ms/step - loss: 7483305472.0000 - val_loss: 32802127872.0000\n",
      "Epoch 43/150\n",
      "52/52 [==============================] - 1s 21ms/step - loss: 8110750208.0000 - val_loss: 33990428672.0000\n",
      "Epoch 44/150\n",
      "52/52 [==============================] - 1s 21ms/step - loss: 6871509504.0000 - val_loss: 24905285632.0000\n",
      "Epoch 45/150\n",
      "52/52 [==============================] - 1s 21ms/step - loss: 15294411776.0000 - val_loss: 31645792256.0000\n",
      "Epoch 46/150\n",
      "52/52 [==============================] - 1s 21ms/step - loss: 26437584896.0000 - val_loss: 41335205888.0000\n",
      "Epoch 47/150\n",
      "52/52 [==============================] - 1s 21ms/step - loss: 13173075968.0000 - val_loss: 27700547584.0000\n",
      "Epoch 48/150\n",
      "52/52 [==============================] - 1s 21ms/step - loss: 12779357184.0000 - val_loss: 40184958976.0000\n",
      "Epoch 49/150\n",
      "52/52 [==============================] - 1s 22ms/step - loss: 17262811136.0000 - val_loss: 23062464512.0000\n",
      "Epoch 50/150\n",
      "52/52 [==============================] - 1s 21ms/step - loss: 9199087616.0000 - val_loss: 36200255488.0000\n",
      "Epoch 51/150\n",
      "52/52 [==============================] - 1s 21ms/step - loss: 8102445568.0000 - val_loss: 23632691200.0000\n",
      "Epoch 52/150\n",
      "52/52 [==============================] - 1s 21ms/step - loss: 15598703616.0000 - val_loss: 28796088320.0000\n",
      "Epoch 53/150\n",
      "52/52 [==============================] - 1s 21ms/step - loss: 8319264768.0000 - val_loss: 31925551104.0000\n",
      "Epoch 54/150\n",
      "52/52 [==============================] - 1s 21ms/step - loss: 11265622016.0000 - val_loss: 34931617792.0000\n",
      "Epoch 55/150\n",
      "52/52 [==============================] - 1s 21ms/step - loss: 31151816704.0000 - val_loss: 30652297216.0000\n",
      "Epoch 56/150\n",
      "52/52 [==============================] - 1s 21ms/step - loss: 22176417792.0000 - val_loss: 26554116096.0000\n",
      "Epoch 57/150\n",
      "52/52 [==============================] - 1s 21ms/step - loss: 8325204992.0000 - val_loss: 27326007296.0000\n",
      "Epoch 58/150\n",
      "52/52 [==============================] - 1s 21ms/step - loss: 6581611520.0000 - val_loss: 24598841344.0000\n",
      "Epoch 59/150\n",
      "52/52 [==============================] - 1s 21ms/step - loss: 6607400448.0000 - val_loss: 30441220096.0000\n",
      "Epoch 60/150\n",
      "52/52 [==============================] - 1s 21ms/step - loss: 5428350464.0000 - val_loss: 27324528640.0000\n",
      "Epoch 61/150\n",
      "52/52 [==============================] - 1s 21ms/step - loss: 4888081408.0000 - val_loss: 24976465920.0000\n",
      "Epoch 62/150\n",
      "52/52 [==============================] - 1s 21ms/step - loss: 4957912576.0000 - val_loss: 26892130304.0000\n",
      "Epoch 63/150\n",
      "52/52 [==============================] - 1s 21ms/step - loss: 4643631616.0000 - val_loss: 24515817472.0000\n",
      "Epoch 64/150\n",
      "52/52 [==============================] - 1s 21ms/step - loss: 6114226688.0000 - val_loss: 34284777472.0000\n",
      "Epoch 65/150\n",
      "52/52 [==============================] - 1s 21ms/step - loss: 5132191232.0000 - val_loss: 28452831232.0000\n",
      "Epoch 66/150\n",
      "52/52 [==============================] - 1s 21ms/step - loss: 5616305664.0000 - val_loss: 33629296640.0000\n",
      "Epoch 67/150\n",
      "52/52 [==============================] - 1s 21ms/step - loss: 10470695936.0000 - val_loss: 24871903232.0000\n",
      "Epoch 68/150\n",
      "52/52 [==============================] - 1s 21ms/step - loss: 37764808704.0000 - val_loss: 23148111872.0000\n"
     ]
    },
    {
     "name": "stdout",
     "output_type": "stream",
     "text": [
      "Epoch 69/150\n",
      "52/52 [==============================] - 1s 21ms/step - loss: 16342697984.0000 - val_loss: 29563709440.0000\n",
      "Epoch 70/150\n",
      "52/52 [==============================] - 1s 21ms/step - loss: 19624249344.0000 - val_loss: 23786340352.0000\n",
      "Epoch 71/150\n",
      "52/52 [==============================] - 1s 21ms/step - loss: 15482127360.0000 - val_loss: 26616666112.0000\n",
      "Epoch 72/150\n",
      "52/52 [==============================] - 1s 21ms/step - loss: 11547396096.0000 - val_loss: 25634093056.0000\n",
      "Epoch 73/150\n",
      "52/52 [==============================] - 1s 21ms/step - loss: 8125218816.0000 - val_loss: 24647974912.0000\n",
      "Epoch 74/150\n",
      "52/52 [==============================] - 1s 21ms/step - loss: 5919152128.0000 - val_loss: 25364422656.0000\n",
      "Epoch 75/150\n",
      "52/52 [==============================] - 1s 21ms/step - loss: 7991752704.0000 - val_loss: 23937579008.0000\n",
      "Epoch 76/150\n",
      "52/52 [==============================] - 1s 21ms/step - loss: 11151923200.0000 - val_loss: 27037810688.0000\n",
      "Epoch 77/150\n",
      "52/52 [==============================] - 1s 20ms/step - loss: 14638710784.0000 - val_loss: 33669128192.0000\n",
      "Epoch 78/150\n",
      "52/52 [==============================] - 1s 21ms/step - loss: 7494390272.0000 - val_loss: 34895065088.0000\n",
      "Epoch 79/150\n",
      "52/52 [==============================] - 1s 21ms/step - loss: 8774198272.0000 - val_loss: 25447591936.0000\n",
      "Epoch 80/150\n",
      "52/52 [==============================] - 1s 21ms/step - loss: 5728334848.0000 - val_loss: 30560780288.0000\n",
      "Epoch 81/150\n",
      "52/52 [==============================] - 1s 21ms/step - loss: 6358809088.0000 - val_loss: 22255904768.0000\n",
      "Epoch 82/150\n",
      "52/52 [==============================] - 1s 21ms/step - loss: 6647176704.0000 - val_loss: 39538171904.0000\n",
      "Epoch 83/150\n",
      "52/52 [==============================] - 1s 21ms/step - loss: 10025747456.0000 - val_loss: 25276643328.0000\n",
      "Epoch 84/150\n",
      "52/52 [==============================] - 1s 21ms/step - loss: 7069262848.0000 - val_loss: 29839624192.0000\n",
      "Epoch 85/150\n",
      "52/52 [==============================] - 1s 21ms/step - loss: 5651040256.0000 - val_loss: 24087738368.0000\n",
      "Epoch 86/150\n",
      "52/52 [==============================] - 1s 21ms/step - loss: 3799888128.0000 - val_loss: 25684041728.0000\n",
      "Epoch 87/150\n",
      "52/52 [==============================] - 1s 21ms/step - loss: 3617972480.0000 - val_loss: 29424322560.0000\n",
      "Epoch 88/150\n",
      "52/52 [==============================] - 1s 21ms/step - loss: 3747172864.0000 - val_loss: 26930253824.0000\n",
      "Epoch 89/150\n",
      "52/52 [==============================] - 1s 21ms/step - loss: 4040569856.0000 - val_loss: 27271624704.0000\n",
      "Epoch 90/150\n",
      "52/52 [==============================] - 1s 21ms/step - loss: 3424756480.0000 - val_loss: 26297059328.0000\n",
      "Epoch 91/150\n",
      "52/52 [==============================] - 1s 21ms/step - loss: 35816947712.0000 - val_loss: 28954486784.0000\n",
      "Epoch 92/150\n",
      "52/52 [==============================] - 1s 21ms/step - loss: 5798184448.0000 - val_loss: 24209778688.0000\n",
      "Epoch 93/150\n",
      "52/52 [==============================] - 1s 21ms/step - loss: 4042804224.0000 - val_loss: 25158641664.0000\n",
      "Epoch 94/150\n",
      "52/52 [==============================] - 1s 21ms/step - loss: 7483797504.0000 - val_loss: 36229447680.0000\n",
      "Epoch 95/150\n",
      "52/52 [==============================] - 1s 21ms/step - loss: 4040314880.0000 - val_loss: 30411411456.0000\n",
      "Epoch 96/150\n",
      "52/52 [==============================] - 1s 21ms/step - loss: 4965504000.0000 - val_loss: 26320961536.0000\n",
      "Epoch 97/150\n",
      "52/52 [==============================] - 1s 21ms/step - loss: 3964929792.0000 - val_loss: 25721831424.0000\n",
      "Epoch 98/150\n",
      "52/52 [==============================] - 1s 21ms/step - loss: 3443219712.0000 - val_loss: 30703503360.0000\n",
      "Epoch 99/150\n",
      "52/52 [==============================] - 1s 21ms/step - loss: 3435910912.0000 - val_loss: 24399525888.0000\n",
      "Epoch 100/150\n",
      "52/52 [==============================] - 1s 21ms/step - loss: 4636764672.0000 - val_loss: 24855724032.0000\n",
      "Epoch 101/150\n",
      "52/52 [==============================] - 1s 21ms/step - loss: 3853246208.0000 - val_loss: 24854917120.0000\n",
      "Epoch 102/150\n",
      "52/52 [==============================] - 1s 21ms/step - loss: 4626566144.0000 - val_loss: 27436957696.0000\n",
      "Epoch 103/150\n",
      "52/52 [==============================] - 1s 21ms/step - loss: 3857695488.0000 - val_loss: 24825952256.0000\n",
      "Epoch 104/150\n",
      "52/52 [==============================] - 1s 21ms/step - loss: 6234174976.0000 - val_loss: 27984322560.0000\n",
      "Epoch 105/150\n",
      "52/52 [==============================] - 1s 22ms/step - loss: 4455521280.0000 - val_loss: 25201547264.0000\n",
      "Epoch 106/150\n",
      "52/52 [==============================] - 1s 21ms/step - loss: 10173752320.0000 - val_loss: 38332723200.0000\n",
      "Epoch 107/150\n",
      "52/52 [==============================] - 1s 21ms/step - loss: 7792878592.0000 - val_loss: 24958627840.0000\n",
      "Epoch 108/150\n",
      "52/52 [==============================] - 1s 21ms/step - loss: 6260089856.0000 - val_loss: 24128333824.0000\n",
      "Epoch 109/150\n",
      "52/52 [==============================] - 1s 21ms/step - loss: 4173447680.0000 - val_loss: 26075207680.0000\n",
      "Epoch 110/150\n",
      "52/52 [==============================] - 1s 21ms/step - loss: 8084578816.0000 - val_loss: 30465531904.0000\n",
      "Epoch 111/150\n",
      "52/52 [==============================] - 1s 21ms/step - loss: 6436557824.0000 - val_loss: 31584440320.0000\n",
      "Epoch 112/150\n",
      "52/52 [==============================] - 1s 21ms/step - loss: 11207744512.0000 - val_loss: 29645711360.0000\n",
      "Epoch 113/150\n",
      "52/52 [==============================] - 1s 21ms/step - loss: 7245134336.0000 - val_loss: 76802580480.0000\n",
      "Epoch 114/150\n",
      "52/52 [==============================] - 1s 21ms/step - loss: 17952276480.0000 - val_loss: 37328187392.0000\n",
      "Epoch 115/150\n",
      "52/52 [==============================] - 1s 21ms/step - loss: 17199087616.0000 - val_loss: 77769891840.0000\n",
      "Epoch 116/150\n",
      "52/52 [==============================] - 1s 21ms/step - loss: 44305874944.0000 - val_loss: 43434094592.0000\n",
      "Epoch 117/150\n",
      "52/52 [==============================] - 1s 21ms/step - loss: 6154850816.0000 - val_loss: 26923862016.0000\n",
      "Epoch 118/150\n",
      "52/52 [==============================] - 1s 21ms/step - loss: 3782930432.0000 - val_loss: 28459960320.0000\n",
      "Epoch 119/150\n",
      "52/52 [==============================] - 1s 21ms/step - loss: 4871862272.0000 - val_loss: 30756530176.0000\n",
      "Epoch 120/150\n",
      "52/52 [==============================] - 1s 21ms/step - loss: 6559672320.0000 - val_loss: 26726965248.0000\n",
      "Epoch 121/150\n",
      "52/52 [==============================] - 1s 21ms/step - loss: 2568659456.0000 - val_loss: 25737404416.0000\n",
      "Epoch 122/150\n",
      "52/52 [==============================] - 1s 21ms/step - loss: 2452636928.0000 - val_loss: 26240094208.0000\n",
      "Epoch 123/150\n",
      "52/52 [==============================] - 1s 21ms/step - loss: 2364102912.0000 - val_loss: 26695041024.0000\n",
      "Epoch 124/150\n",
      "52/52 [==============================] - 1s 21ms/step - loss: 2225360128.0000 - val_loss: 28026208256.0000\n",
      "Epoch 125/150\n",
      "52/52 [==============================] - 1s 21ms/step - loss: 2287545600.0000 - val_loss: 24303087616.0000\n",
      "Epoch 126/150\n",
      "52/52 [==============================] - 1s 21ms/step - loss: 2425217792.0000 - val_loss: 27030587392.0000\n",
      "Epoch 127/150\n",
      "52/52 [==============================] - 1s 21ms/step - loss: 8730066944.0000 - val_loss: 27367100416.0000\n",
      "Epoch 128/150\n",
      "52/52 [==============================] - 1s 21ms/step - loss: 5853845504.0000 - val_loss: 26100813824.0000\n",
      "Epoch 129/150\n",
      "52/52 [==============================] - 1s 21ms/step - loss: 4661506048.0000 - val_loss: 26366576640.0000\n",
      "Epoch 130/150\n",
      "52/52 [==============================] - 1s 21ms/step - loss: 2644153088.0000 - val_loss: 28869904384.0000\n",
      "Epoch 131/150\n",
      "52/52 [==============================] - 1s 21ms/step - loss: 2559886848.0000 - val_loss: 28458661888.0000\n",
      "Epoch 132/150\n",
      "52/52 [==============================] - 1s 21ms/step - loss: 2162723328.0000 - val_loss: 24748584960.0000\n",
      "Epoch 133/150\n",
      "52/52 [==============================] - 1s 21ms/step - loss: 3460145408.0000 - val_loss: 24896264192.0000\n",
      "Epoch 134/150\n",
      "52/52 [==============================] - 1s 21ms/step - loss: 3933946368.0000 - val_loss: 28476104704.0000\n",
      "Epoch 135/150\n",
      "52/52 [==============================] - 1s 21ms/step - loss: 3537886208.0000 - val_loss: 25985277952.0000\n",
      "Epoch 136/150\n",
      "52/52 [==============================] - 1s 21ms/step - loss: 4873501184.0000 - val_loss: 40003289088.0000\n"
     ]
    },
    {
     "name": "stdout",
     "output_type": "stream",
     "text": [
      "Epoch 137/150\n",
      "52/52 [==============================] - 1s 21ms/step - loss: 8875980800.0000 - val_loss: 27941642240.0000\n",
      "Epoch 138/150\n",
      "52/52 [==============================] - 1s 21ms/step - loss: 4530452992.0000 - val_loss: 28846436352.0000\n",
      "Epoch 139/150\n",
      "52/52 [==============================] - 1s 21ms/step - loss: 2223518720.0000 - val_loss: 23886553088.0000\n",
      "Epoch 140/150\n",
      "52/52 [==============================] - 1s 21ms/step - loss: 1943375744.0000 - val_loss: 26943350784.0000\n",
      "Epoch 141/150\n",
      "52/52 [==============================] - 1s 21ms/step - loss: 1713904512.0000 - val_loss: 26282600448.0000\n",
      "Epoch 142/150\n",
      "52/52 [==============================] - 1s 21ms/step - loss: 1700322816.0000 - val_loss: 27859099648.0000\n",
      "Epoch 143/150\n",
      "52/52 [==============================] - 1s 21ms/step - loss: 1689756928.0000 - val_loss: 24917522432.0000\n",
      "Epoch 144/150\n",
      "52/52 [==============================] - 1s 21ms/step - loss: 1534380800.0000 - val_loss: 26498930688.0000\n",
      "Epoch 145/150\n",
      "52/52 [==============================] - 1s 21ms/step - loss: 1950041472.0000 - val_loss: 23510112256.0000\n",
      "Epoch 146/150\n",
      "52/52 [==============================] - 1s 21ms/step - loss: 1984573184.0000 - val_loss: 22963566592.0000\n",
      "Epoch 147/150\n",
      "52/52 [==============================] - 1s 21ms/step - loss: 3495428352.0000 - val_loss: 27418714112.0000\n",
      "Epoch 148/150\n",
      "52/52 [==============================] - 1s 21ms/step - loss: 3332065536.0000 - val_loss: 31318028288.0000\n",
      "Epoch 149/150\n",
      "52/52 [==============================] - 1s 21ms/step - loss: 10158234624.0000 - val_loss: 26241867776.0000\n",
      "Epoch 150/150\n",
      "52/52 [==============================] - 1s 21ms/step - loss: 5272807424.0000 - val_loss: 26735726592.0000\n",
      "Model: \"sequential_6\"\n",
      "_________________________________________________________________\n",
      " Layer (type)                Output Shape              Param #   \n",
      "=================================================================\n",
      " dense_66 (Dense)            (None, 480)               676320    \n",
      "                                                                 \n",
      " dense_67 (Dense)            (None, 480)               230880    \n",
      "                                                                 \n",
      " dense_68 (Dense)            (None, 480)               230880    \n",
      "                                                                 \n",
      " dense_69 (Dense)            (None, 480)               230880    \n",
      "                                                                 \n",
      " dense_70 (Dense)            (None, 480)               230880    \n",
      "                                                                 \n",
      " dense_71 (Dense)            (None, 480)               230880    \n",
      "                                                                 \n",
      " dense_72 (Dense)            (None, 480)               230880    \n",
      "                                                                 \n",
      " dense_73 (Dense)            (None, 480)               230880    \n",
      "                                                                 \n",
      " dense_74 (Dense)            (None, 480)               230880    \n",
      "                                                                 \n",
      " dense_75 (Dense)            (None, 480)               230880    \n",
      "                                                                 \n",
      " dense_76 (Dense)            (None, 1)                 481       \n",
      "                                                                 \n",
      "=================================================================\n",
      "Total params: 2,754,721\n",
      "Trainable params: 2,754,721\n",
      "Non-trainable params: 0\n",
      "_________________________________________________________________\n"
     ]
    }
   ],
   "source": [
    "model.fit(x_train,y_train,validation_data=(x_test,y_test),batch_size=128,epochs=150)\n",
    "model.summary()"
   ]
  },
  {
   "cell_type": "code",
   "execution_count": 71,
   "id": "586a7b15",
   "metadata": {},
   "outputs": [
    {
     "name": "stdout",
     "output_type": "stream",
     "text": [
      "52/52 [==============================] - 0s 4ms/step\n"
     ]
    }
   ],
   "source": [
    "tahmin=model.predict(x_test)"
   ]
  },
  {
   "cell_type": "code",
   "execution_count": 72,
   "id": "d52e6e5a",
   "metadata": {},
   "outputs": [
    {
     "data": {
      "text/plain": [
       "0.8196356851066517"
      ]
     },
     "execution_count": 72,
     "metadata": {},
     "output_type": "execute_result"
    }
   ],
   "source": [
    "r2_score(tahmin,y_test)"
   ]
  },
  {
   "cell_type": "code",
   "execution_count": 73,
   "id": "776cb8cf",
   "metadata": {},
   "outputs": [
    {
     "data": {
      "text/plain": [
       "163510.62620024834"
      ]
     },
     "execution_count": 73,
     "metadata": {},
     "output_type": "execute_result"
    }
   ],
   "source": [
    "(mean_squared_error(tahmin,y_test))**0.5"
   ]
  },
  {
   "cell_type": "code",
   "execution_count": null,
   "id": "aeead587",
   "metadata": {},
   "outputs": [],
   "source": []
  }
 ],
 "metadata": {
  "kernelspec": {
   "display_name": "Python 3 (ipykernel)",
   "language": "python",
   "name": "python3"
  },
  "language_info": {
   "codemirror_mode": {
    "name": "ipython",
    "version": 3
   },
   "file_extension": ".py",
   "mimetype": "text/x-python",
   "name": "python",
   "nbconvert_exporter": "python",
   "pygments_lexer": "ipython3",
   "version": "3.9.12"
  }
 },
 "nbformat": 4,
 "nbformat_minor": 5
}
